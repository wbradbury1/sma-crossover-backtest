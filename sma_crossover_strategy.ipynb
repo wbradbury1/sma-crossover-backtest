{
 "cells": [
  {
   "cell_type": "markdown",
   "id": "4f041e0f",
   "metadata": {},
   "source": [
    "\n",
    "# Backtesting SMA Crossover Strategy\n",
    "\n",
    "**Author:** William Bradbury  \n",
    "\n",
    "**Email:** wbradbury1@outlook.com  \n",
    "\n",
    "**LinkedIn:** https://www.linkedin.com/in/williamjbradbury/  \n",
    "\n",
    "**GitHub:** https://github.com/wbradbury1  \n",
    "\n",
    "**Affiliation:** University of Warwick — BSc Mathematics \n",
    "\n",
    "This notebook implements and evaluates a **Simple Moving Average (SMA) crossover** trading strategy\n",
    "in Python. It is cleaned for GitHub: no outputs, execution counts stripped, and code formatted.\n",
    "\n",
    "## Features:\n",
    "- Data via yfinance (adjusted close)\n",
    "- Configurable SMA windows\n",
    "- Vectorized signals with no look-ahead\n",
    "- Metrics: CAGR, Annualized Vol, Sharpe, Max Drawdown\n",
    "- Plots: Price with SMAs + Buy/Sell, Equity curves, Drawdowns\n",
    "\n",
    "## How to Run\n",
    "1. Install the required packages:\n",
    "   ```bash\n",
    "   pip install -r requirements.txt\n",
    "   ```\n",
    "2. Open the notebook in Jupyter (`jupyter lab`).\n",
    "3. Run all cells in order. \n",
    "\n"
   ]
  },
  {
   "cell_type": "code",
   "execution_count": null,
   "id": "63b503f8",
   "metadata": {},
   "outputs": [],
   "source": [
    "# If yfinance not installed and error returned, uncomment following line:\n",
    "# !pip install yfinance"
   ]
  },
  {
   "cell_type": "code",
   "execution_count": null,
   "id": "5f587eb4",
   "metadata": {},
   "outputs": [],
   "source": [
    "import numpy as np\n",
    "import pandas as pd\n",
    "import matplotlib.pyplot as plt\n",
    "import yfinance as yf"
   ]
  },
  {
   "cell_type": "code",
   "execution_count": null,
   "id": "1e633bdd",
   "metadata": {},
   "outputs": [],
   "source": [
    "# Parameters\n",
    "TICKER = \"SPY\"         # The asset we test, identified by its ticker symbol (e.g. SPY for S&P 500 ETF)\n",
    "START  = \"2000-01-01\"  # Start date for data (YYYY-MM-DD)\n",
    "END    = None          # End date; None means \"today\"\n",
    "\n",
    "SHORT_WINDOW = 50   # Number of trading days in the \"short\" SMA (Simple Moving Average)\n",
    "LONG_WINDOW  = 200  # Number of trading days in the \"long\" SMA (Simple Moving Average)\n",
    "\n",
    "INITIAL_CAPITAL = 100000  # Starting portfolio value (in dollars, pounds, whatever)"
   ]
  },
  {
   "cell_type": "code",
   "execution_count": null,
   "id": "7ef8f086",
   "metadata": {},
   "outputs": [],
   "source": [
    "# Data Importing\n",
    "START_fixed = (pd.to_datetime(START) - pd.DateOffset(years=1)).strftime(\"%Y-%m-%d\")  # Starts year before date we are interested in to remove NaN values\n",
    "data = yf.download(TICKER, start=START_fixed, end=END, auto_adjust=True)             # Prefer Adjusted because it accounts for dividends and splits hence above auto_adjust=True\n",
    "\n",
    "df = data[[\"Close\"]].copy()          # Interested only in close price\n",
    "df.index = pd.to_datetime(df.index)  # Index is now date\n",
    "df = df.sort_index().dropna()        # Ensured rows are in date order and removed any missing values\n",
    "\n",
    "print(f\"Downloaded {TICKER}: {len(df)} rows, {df.index.min().date()} → {df.index.max().date()}\")\n",
    "df.head()"
   ]
  },
  {
   "cell_type": "markdown",
   "id": "32a66cb4",
   "metadata": {},
   "source": [
    "## Strategy Logic\n",
    "We compute the short-term and long-term Simple Moving Averages (SMAs). A signal is generated when the short SMA crosses above or below the long SMA."
   ]
  },
  {
   "cell_type": "code",
   "execution_count": null,
   "id": "9b94bb7a-4783-446e-b436-705fecc6a0ec",
   "metadata": {},
   "outputs": [],
   "source": [
    "# Indicators\n",
    "df[\"SMA_short\"] = df[\"Close\"].rolling(window=SHORT_WINDOW, min_periods=SHORT_WINDOW).mean() # Short SMA column\n",
    "df[\"SMA_long\"]  = df[\"Close\"].rolling(window=LONG_WINDOW,  min_periods=LONG_WINDOW ).mean() # Long SMA column\n",
    "df = df.loc[START:].dropna().copy()                                                         # Slice DataFrame to original start date to remove NaN values for both SMA columns (Simple Moving Average).\n",
    "df.head()"
   ]
  },
  {
   "cell_type": "markdown",
   "id": "230a78b8",
   "metadata": {},
   "source": [
    "## Signal and Position Construction\n",
    "We generate binary signals (long/flat) based on SMA crossovers, shift by one day to avoid look-ahead bias, and calculate strategy returns and equity curves."
   ]
  },
  {
   "cell_type": "code",
   "execution_count": null,
   "id": "11c4a780-457e-4b31-9679-5c83d2b8c061",
   "metadata": {},
   "outputs": [],
   "source": [
    "# Signals and Equity\n",
    "df[\"signal\"] = (df[\"SMA_short\"] > df[\"SMA_long\"]).astype(float)           # 1 if SMA_short > SMA_long else 0 and type set to float to assist in later calculations\n",
    "df[\"position\"] = df[\"signal\"].shift(1).fillna(0.0)                        # use yesterday's signal (avoid look-ahead)\n",
    "df[\"ret\"] = df[\"Close\"].pct_change().fillna(0.0)                          # daily returns from price\n",
    "df[\"strategy_ret\"] = df[\"position\"] * df[\"ret\"]                           # strategy returns (only earn if position held)\n",
    "df[\"equity\"]    = (1.0 + df[\"strategy_ret\"]).cumprod() * INITIAL_CAPITAL  # SMA strategy equity\n",
    "df[\"bh_equity\"] = (1.0 + df[\"ret\"]).cumprod() * INITIAL_CAPITAL           # Buy & Hold equity\n",
    "df.head()"
   ]
  },
  {
   "cell_type": "markdown",
   "id": "805ed79e",
   "metadata": {},
   "source": [
    "## Performance Metrics\n",
    "We calculate standard performance statistics:\n",
    "- CAGR (annual growth rate)\n",
    "- Annualized volatility\n",
    "- Sharpe ratio (without risk-free)\n",
    "- Maximum drawdown"
   ]
  },
  {
   "cell_type": "code",
   "execution_count": null,
   "id": "351bd8e6",
   "metadata": {},
   "outputs": [],
   "source": [
    "# Performance Metrics\n",
    "# We compute 4 metrics:\n",
    "\n",
    "# 1. CAGR (Compound Annual Growth Rate)\n",
    "# 2. Annualized Volatility\n",
    "# 3. Sharpe Ratio (no risk-free)\n",
    "# 4. Maximum Drawdown\n",
    "\n",
    "# Defining functions with type and return hints for data formatting\n",
    "\n",
    "def cagr(equity: pd.Series) -> float:\n",
    "  # Geometric mean of returns, scaled to a yearly basis\n",
    "    start_val = float(equity.iloc[0])\n",
    "    end_val   = float(equity.iloc[-1])\n",
    "    years = (equity.index[-1] - equity.index[0]).days / 365.25\n",
    "    return (end_val / start_val) ** (1.0 / years) - 1.0\n",
    "\n",
    "\n",
    "def annualized_vol(daily_returns: pd.Series) -> float:\n",
    "  # Standard deviation of daily returns scaled by sqrt(252) -- 252 trading days per year\n",
    "    return daily_returns.std() * np.sqrt(252)\n",
    "\n",
    "def sharpe_no_rf(daily_returns: pd.Series) -> float:\n",
    "  # Measures return per unit of risk\n",
    "    return (daily_returns.mean() / daily_returns.std()) * np.sqrt(252)\n",
    "\n",
    "def max_drawdown(equity: pd.Series) -> float:\n",
    "  # Worst drop from a peak to a trough\n",
    "    running_max = equity.cummax()\n",
    "    dd = (equity / running_max) - 1\n",
    "    return dd.min()"
   ]
  },
  {
   "cell_type": "code",
   "execution_count": null,
   "id": "27ee26d9",
   "metadata": {},
   "outputs": [],
   "source": [
    "# Calculate metrics for SMA and Buy & Hold (Simple Moving Average)\n",
    "metrics = {\n",
    "    \"SMA\": {\n",
    "        \"CAGR\":   cagr(df[\"equity\"]),\n",
    "        \"Vol\":    annualized_vol(df[\"strategy_ret\"]),\n",
    "        \"Sharpe\": sharpe_no_rf(df[\"strategy_ret\"]),\n",
    "        \"MaxDD\":  max_drawdown(df[\"equity\"])\n",
    "    },\n",
    "    \"Buy&Hold\": {\n",
    "        \"CAGR\":   cagr(df[\"bh_equity\"]),\n",
    "        \"Vol\":    annualized_vol(df[\"ret\"]),\n",
    "        \"Sharpe\": sharpe_no_rf(df[\"ret\"]),\n",
    "        \"MaxDD\":  max_drawdown(df[\"bh_equity\"])\n",
    "    }\n",
    "}\n",
    "\n",
    "# Print results to 2 d.p.\n",
    "print(\"Performance Summary\")\n",
    "for strategy, m in metrics.items(): # Loop running through above dictionary\n",
    "    print(f\"\\n{strategy}\")\n",
    "    print(f\"  CAGR:   {m['CAGR']:.2%}\")\n",
    "    print(f\"  Vol:    {m['Vol']:.2%}\")\n",
    "    print(f\"  Sharpe: {m['Sharpe']:.2f}\")\n",
    "    print(f\"  MaxDD:  {m['MaxDD']:.2%}\")"
   ]
  },
  {
   "cell_type": "markdown",
   "id": "8e30fec2",
   "metadata": {},
   "source": [
    "## Results: Price and SMAs\n",
    "We plot the asset price with both SMAs and mark the Buy/Sell points."
   ]
  },
  {
   "cell_type": "code",
   "execution_count": null,
   "id": "5ea588a8",
   "metadata": {},
   "outputs": [],
   "source": [
    "# Plots\n",
    "\n",
    "# 1) Price + SMAs (Simple Moving Average)\n",
    "# Find where position changes (turnover points)\n",
    "turns = df['position'].diff().fillna(0)\n",
    "buy_idx = df.index[turns > 0]  # Buy = points where we switch into a long (diff = +1)\n",
    "sell_idx = df.index[turns < 0]  # Sell = points where we exit to flat (diff = -1)\n",
    "\n",
    "fig, ax = plt.subplots(figsize=(12,4))\n",
    "df[\"Close\"].plot(ax=ax, label=\"Close\", c=\"k\", alpha=0.7)\n",
    "df[\"SMA_short\"].plot(ax=ax, label=f\"SMA {SHORT_WINDOW}\")\n",
    "df[\"SMA_long\"].plot(ax=ax, label=f\"SMA {LONG_WINDOW}\")\n",
    "ax.scatter(buy_idx,  df.loc[buy_idx, 'Close'],  marker='^', c='green', s=90, label='Buy')\n",
    "ax.scatter(sell_idx, df.loc[sell_idx, 'Close'], marker='v', c='red',   s=90, label='Sell')\n",
    "ax.set_title(f\"{TICKER} Price with {SHORT_WINDOW}/{LONG_WINDOW} SMAs\")\n",
    "ax.set_xlabel(\"Date\")\n",
    "ax.set_ylabel(\"Price\")\n",
    "ax.legend()\n",
    "plt.show()\n",
    "\n",
    "# 2) Equity curves\n",
    "fig, ax = plt.subplots(figsize=(12,4))\n",
    "df[\"equity\"].plot(ax=ax, label=\"SMA Strategy\")\n",
    "df[\"bh_equity\"].plot(ax=ax, label=\"Buy & Hold\")\n",
    "ax.set_title(\"Equity Curves\")\n",
    "ax.set_xlabel(\"Date\")\n",
    "ax.set_ylabel(\"Portfolio Value\")\n",
    "ax.legend()\n",
    "plt.show()\n",
    "\n",
    "# 3) Drawdowns\n",
    "# Compute drawdowns for both curves\n",
    "dd_sma = df['equity'] / df['equity'].cummax() - 1\n",
    "dd_bh  = df['bh_equity'] / df['bh_equity'].cummax() - 1\n",
    "\n",
    "fig, ax = plt.subplots(figsize=(12,4))\n",
    "dd_sma.plot(ax=ax, label='SMA Drawdown')\n",
    "dd_bh.plot(ax=ax,  label='Buy & Hold Drawdown', alpha=0.7)\n",
    "ax.set_title('Drawdown: SMA vs Buy & Hold')\n",
    "ax.set_xlabel('Date')\n",
    "ax.set_ylabel('Drawdown')\n",
    "ax.legend()\n",
    "plt.show()"
   ]
  },
  {
   "cell_type": "markdown",
   "id": "da7196a3",
   "metadata": {},
   "source": [
    "## Conclusion\n",
    "\n",
    "The SMA crossover strategy was evaluated on SPY from 2000–present, covering multiple market regimes (dot-com crash, 2008 financial crisis, COVID-19 shock, and long bull markets).  \n",
    "\n",
    "- **CAGR:** Buy & Hold slightly outperformed on raw returns (7.87% vs 7.75%).  \n",
    "- **Volatility:** SMA had noticeably lower volatility (13.4% vs 19.5%).  \n",
    "- **Sharpe ratio:** SMA achieved a higher Sharpe (0.62 vs 0.49), indicating superior risk-adjusted performance.  \n",
    "- **Max Drawdown:** SMA’s worst drawdown was much smaller (–33.7% vs –55.2%), showing stronger downside protection.  \n",
    "\n",
    "**Summary:**  \n",
    "Over the past two decades, the SMA crossover strategy slightly trailed behind Buy & Hold in absolute returns, but it **delivered better risk-adjusted performance and significantly reduced drawdowns**.  \n",
    "\n",
    "I also tested different moving average windows (e.g. 10/50, 20/100, 50/200) and across multiple assets (AAPL, BTC-USD). The pattern was consistent: shorter SMAs made the strategy more reactive but prone to whipsaws in more volatile markets, while longer SMAs were steadier but slower to respond. In most cases, the strategy offered valuable **protection in bear markets**, yet tended to **lag behind Buy & Hold in strong bull markets**.\n"
   ]
  },
  {
   "cell_type": "code",
   "execution_count": null,
   "id": "3c1aebc9-4ab6-4927-a522-42c810ba3aa0",
   "metadata": {},
   "outputs": [],
   "source": []
  }
 ],
 "metadata": {
  "jupytext": {
   "formats": "ipynb"
  },
  "kernelspec": {
   "display_name": "Python 3 (ipykernel)",
   "language": "python",
   "name": "python3"
  },
  "language_info": {
   "codemirror_mode": {
    "name": "ipython",
    "version": 3
   },
   "file_extension": ".py",
   "mimetype": "text/x-python",
   "name": "python",
   "nbconvert_exporter": "python",
   "pygments_lexer": "ipython3",
   "version": "3.13.5"
  }
 },
 "nbformat": 4,
 "nbformat_minor": 5
}
